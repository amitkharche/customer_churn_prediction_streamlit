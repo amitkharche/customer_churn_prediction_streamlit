
{
 "cells": [
  {
   "cell_type": "markdown",
   "metadata": {},
   "source": [
    "# Customer Churn Prediction - Full Workflow\n",
    "This notebook includes:\n",
    "- Business framing\n",
    "- EDA\n",
    "- Feature engineering\n",
    "- Model training\n",
    "- Evaluation\n",
    "- Business interpretation"
   ]
  }
 ],
 "metadata": {
  "kernelspec": {
   "display_name": "Python 3",
   "language": "python",
   "name": "python3"
  },
  "language_info": {
   "name": "python",
   "version": "3.8"
  }
 },
 "nbformat": 4,
 "nbformat_minor": 2
}
